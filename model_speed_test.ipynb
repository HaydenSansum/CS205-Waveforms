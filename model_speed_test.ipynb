{
 "cells": [
  {
   "cell_type": "code",
   "execution_count": 1,
   "metadata": {},
   "outputs": [],
   "source": [
    "# Imports\n",
    "import numpy as np\n",
    "import pandas as pd\n",
    "import tensorflow as tf\n",
    "import matplotlib.pyplot as plt\n",
    "import time\n",
    "\n",
    "from scipy.io import wavfile\n",
    "from sklearn.preprocessing import OneHotEncoder"
   ]
  },
  {
   "cell_type": "code",
   "execution_count": 2,
   "metadata": {},
   "outputs": [],
   "source": [
    "# Read WAV FILE\n",
    "samp_rate, data = wavfile.read(\"Song0_KieLoKaz_-_02_-_Trip_to_Ganymed_Kielokaz_ID_363.wav\")"
   ]
  },
  {
   "cell_type": "code",
   "execution_count": 3,
   "metadata": {},
   "outputs": [
    {
     "data": {
      "text/plain": [
       "OneHotEncoder(categorical_features=None, categories='auto', drop=None,\n",
       "              dtype=<class 'numpy.float64'>, handle_unknown='error',\n",
       "              n_values=None, sparse=True)"
      ]
     },
     "execution_count": 3,
     "metadata": {},
     "output_type": "execute_result"
    }
   ],
   "source": [
    "mono_channel = data[:,0]\n",
    "\n",
    "x_train = mono_channel.copy()\n",
    "\n",
    "# Cut down the data\n",
    "x_train = x_train[:5120000]\n",
    "\n",
    "# One hot encode output channels\n",
    "enc = OneHotEncoder(categories='auto')\n",
    "enc.fit(x_train.reshape(-1,1))"
   ]
  },
  {
   "cell_type": "code",
   "execution_count": 4,
   "metadata": {},
   "outputs": [],
   "source": [
    "x_train_onehot = enc.transform(x_train.reshape(-1,1)).toarray()\n",
    "#y_train_onehot = enc.transform(y_train.reshape(-1,1)).toarray()"
   ]
  },
  {
   "cell_type": "code",
   "execution_count": 7,
   "metadata": {},
   "outputs": [],
   "source": [
    "x_train_onehot = x_train_onehot.reshape(-1, 1024, 238)"
   ]
  },
  {
   "cell_type": "code",
   "execution_count": 8,
   "metadata": {},
   "outputs": [],
   "source": [
    "def add_wavenet_layer(input_layer, dilation):\n",
    "    \n",
    "    # Layer\n",
    "    conv_sig = tf.keras.layers.Conv1D(filters=255, kernel_size=2, strides=1, padding=\"causal\",\n",
    "                                          dilation_rate=dilation, activation='sigmoid')(input_layer)\n",
    "    conv_tanh = tf.keras.layers.Conv1D(filters=255, kernel_size=2, strides=1, padding=\"causal\",\n",
    "                                          dilation_rate=dilation, activation='tanh')(input_layer)\n",
    "    resulting_layer = tf.keras.layers.Multiply()([conv_sig, conv_tanh])\n",
    "\n",
    "    return(resulting_layer)"
   ]
  },
  {
   "cell_type": "code",
   "execution_count": 9,
   "metadata": {},
   "outputs": [],
   "source": [
    "model_input = tf.keras.layers.Input(shape=(1024,238))\n",
    "\n",
    "# Add a single WAVENET layer\n",
    "out_layer = add_wavenet_layer(model_input, 1)\n",
    "\n",
    "#Add another 9 (10 are used in the paper - 1024 input span)\n",
    "for i in range(0):\n",
    "     out_layer = add_wavenet_layer(out_layer, 2**(i+1))\n",
    "\n",
    "# Add final output softmax\n",
    "output_pred = tf.keras.layers.Conv1D(filters=238, kernel_size=1, padding='same', activation='sigmoid')(out_layer)"
   ]
  },
  {
   "cell_type": "code",
   "execution_count": 10,
   "metadata": {},
   "outputs": [],
   "source": [
    "test_model = tf.keras.Model(model_input, output_pred)"
   ]
  },
  {
   "cell_type": "code",
   "execution_count": 11,
   "metadata": {},
   "outputs": [
    {
     "name": "stdout",
     "output_type": "stream",
     "text": [
      "Model: \"model\"\n",
      "__________________________________________________________________________________________________\n",
      "Layer (type)                    Output Shape         Param #     Connected to                     \n",
      "==================================================================================================\n",
      "input_1 (InputLayer)            [(None, 1024, 238)]  0                                            \n",
      "__________________________________________________________________________________________________\n",
      "conv1d (Conv1D)                 (None, 1024, 255)    121635      input_1[0][0]                    \n",
      "__________________________________________________________________________________________________\n",
      "conv1d_1 (Conv1D)               (None, 1024, 255)    121635      input_1[0][0]                    \n",
      "__________________________________________________________________________________________________\n",
      "multiply (Multiply)             (None, 1024, 255)    0           conv1d[0][0]                     \n",
      "                                                                 conv1d_1[0][0]                   \n",
      "__________________________________________________________________________________________________\n",
      "conv1d_2 (Conv1D)               (None, 1024, 238)    60928       multiply[0][0]                   \n",
      "==================================================================================================\n",
      "Total params: 304,198\n",
      "Trainable params: 304,198\n",
      "Non-trainable params: 0\n",
      "__________________________________________________________________________________________________\n"
     ]
    }
   ],
   "source": [
    "test_model.summary()"
   ]
  },
  {
   "cell_type": "code",
   "execution_count": 12,
   "metadata": {},
   "outputs": [
    {
     "name": "stdout",
     "output_type": "stream",
     "text": [
      "Train on 5000 samples\n",
      "5000/5000 [==============================] - 16s 3ms/sample - loss: 3.9425\n"
     ]
    },
    {
     "data": {
      "text/plain": [
       "<tensorflow.python.keras.callbacks.History at 0x7f2e3c191d50>"
      ]
     },
     "execution_count": 12,
     "metadata": {},
     "output_type": "execute_result"
    }
   ],
   "source": [
    "# Compile and fit\n",
    "test_model.compile(optimizer='adam', loss='categorical_crossentropy')\n",
    "\n",
    "test_model.fit(x_train_onehot, x_train_onehot, epochs=1)"
   ]
  },
  {
   "cell_type": "code",
   "execution_count": 13,
   "metadata": {},
   "outputs": [
    {
     "data": {
      "text/plain": [
       "7602176000000"
      ]
     },
     "execution_count": 13,
     "metadata": {},
     "output_type": "execute_result"
    }
   ],
   "source": [
    "29000000*1024*256"
   ]
  },
  {
   "cell_type": "code",
   "execution_count": null,
   "metadata": {},
   "outputs": [],
   "source": []
  }
 ],
 "metadata": {
  "kernelspec": {
   "display_name": "python3",
   "language": "python",
   "name": "python3"
  },
  "language_info": {
   "codemirror_mode": {
    "name": "ipython",
    "version": 3
   },
   "file_extension": ".py",
   "mimetype": "text/x-python",
   "name": "python",
   "nbconvert_exporter": "python",
   "pygments_lexer": "ipython3",
   "version": "3.7.4"
  }
 },
 "nbformat": 4,
 "nbformat_minor": 2
}
