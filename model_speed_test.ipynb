{
 "cells": [
  {
   "cell_type": "code",
   "execution_count": 1,
   "metadata": {},
   "outputs": [],
   "source": [
    "# Imports\n",
    "import numpy as np\n",
    "import pandas as pd\n",
    "import tensorflow as tf\n",
    "import matplotlib.pyplot as plt\n",
    "import time\n",
    "\n",
    "from scipy.io import wavfile\n",
    "from sklearn.preprocessing import OneHotEncoder"
   ]
  },
  {
   "cell_type": "code",
   "execution_count": 2,
   "metadata": {},
   "outputs": [],
   "source": [
    "# Read WAV FILE\n",
    "samp_rate, data = wavfile.read(\"Song0_KieLoKaz_-_02_-_Trip_to_Ganymed_Kielokaz_ID_363.wav\")"
   ]
  },
  {
   "cell_type": "code",
   "execution_count": 104,
   "metadata": {},
   "outputs": [],
   "source": [
    "mono_channel = data[:,0]\n",
    "\n",
    "x_train = mono_channel.copy()\n",
    "\n",
    "layers = 10\n",
    "\n",
    "n_window = int(2**layers)\n",
    "n_data = 10000*n_window\n",
    "\n",
    "# Cut down the data\n",
    "x_train = x_train[:n_data]\n",
    "\n",
    "# One hot encode output channels\n",
    "enc = OneHotEncoder(categories='auto')\n",
    "enc.fit(x_train.reshape(-1,1))\n",
    "\n",
    "x_train_onehot = enc.transform(x_train.reshape(-1,1)).toarray()\n",
    "\n",
    "# Get channels\n",
    "n_channels = x_train_onehot.shape[1]\n",
    "x_train_onehot = x_train_onehot.reshape(-1, n_window, n_channels)"
   ]
  },
  {
   "cell_type": "code",
   "execution_count": 105,
   "metadata": {},
   "outputs": [],
   "source": [
    "def add_wavenet_layer(input_layer, dilation):\n",
    "    \n",
    "    # Layer\n",
    "    conv_sig = tf.keras.layers.Conv1D(filters=255, kernel_size=2, strides=1, padding=\"causal\",\n",
    "                                          dilation_rate=dilation, activation='sigmoid')(input_layer)\n",
    "    conv_tanh = tf.keras.layers.Conv1D(filters=255, kernel_size=2, strides=1, padding=\"causal\",\n",
    "                                          dilation_rate=dilation, activation='tanh')(input_layer)\n",
    "    resulting_layer = tf.keras.layers.Multiply()([conv_sig, conv_tanh])\n",
    "\n",
    "    return(resulting_layer)"
   ]
  },
  {
   "cell_type": "code",
   "execution_count": 106,
   "metadata": {},
   "outputs": [],
   "source": [
    "model_input = tf.keras.layers.Input(shape=(n_window,n_channels))\n",
    "\n",
    "# Add a single WAVENET layer\n",
    "out_layer = add_wavenet_layer(model_input, 1)\n",
    "\n",
    "#Add another 9 (10 are used in the paper - 1024 input span)\n",
    "for i in range(layers-1):\n",
    "     out_layer = add_wavenet_layer(out_layer, 2**(i+1))\n",
    "\n",
    "# Add final output softmax\n",
    "output_pred = tf.keras.layers.Conv1D(filters=n_channels, kernel_size=1, padding='same', activation='sigmoid')(out_layer)"
   ]
  },
  {
   "cell_type": "code",
   "execution_count": 107,
   "metadata": {},
   "outputs": [],
   "source": [
    "test_model = tf.keras.Model(model_input, output_pred)"
   ]
  },
  {
   "cell_type": "code",
   "execution_count": 108,
   "metadata": {},
   "outputs": [
    {
     "name": "stdout",
     "output_type": "stream",
     "text": [
      "Model: \"model_7\"\n",
      "__________________________________________________________________________________________________\n",
      "Layer (type)                    Output Shape         Param #     Connected to                     \n",
      "==================================================================================================\n",
      "input_9 (InputLayer)            [(None, 1024, 247)]  0                                            \n",
      "__________________________________________________________________________________________________\n",
      "conv1d_108 (Conv1D)             (None, 1024, 255)    126225      input_9[0][0]                    \n",
      "__________________________________________________________________________________________________\n",
      "conv1d_109 (Conv1D)             (None, 1024, 255)    126225      input_9[0][0]                    \n",
      "__________________________________________________________________________________________________\n",
      "multiply_50 (Multiply)          (None, 1024, 255)    0           conv1d_108[0][0]                 \n",
      "                                                                 conv1d_109[0][0]                 \n",
      "__________________________________________________________________________________________________\n",
      "conv1d_110 (Conv1D)             (None, 1024, 255)    130305      multiply_50[0][0]                \n",
      "__________________________________________________________________________________________________\n",
      "conv1d_111 (Conv1D)             (None, 1024, 255)    130305      multiply_50[0][0]                \n",
      "__________________________________________________________________________________________________\n",
      "multiply_51 (Multiply)          (None, 1024, 255)    0           conv1d_110[0][0]                 \n",
      "                                                                 conv1d_111[0][0]                 \n",
      "__________________________________________________________________________________________________\n",
      "conv1d_112 (Conv1D)             (None, 1024, 255)    130305      multiply_51[0][0]                \n",
      "__________________________________________________________________________________________________\n",
      "conv1d_113 (Conv1D)             (None, 1024, 255)    130305      multiply_51[0][0]                \n",
      "__________________________________________________________________________________________________\n",
      "multiply_52 (Multiply)          (None, 1024, 255)    0           conv1d_112[0][0]                 \n",
      "                                                                 conv1d_113[0][0]                 \n",
      "__________________________________________________________________________________________________\n",
      "conv1d_114 (Conv1D)             (None, 1024, 255)    130305      multiply_52[0][0]                \n",
      "__________________________________________________________________________________________________\n",
      "conv1d_115 (Conv1D)             (None, 1024, 255)    130305      multiply_52[0][0]                \n",
      "__________________________________________________________________________________________________\n",
      "multiply_53 (Multiply)          (None, 1024, 255)    0           conv1d_114[0][0]                 \n",
      "                                                                 conv1d_115[0][0]                 \n",
      "__________________________________________________________________________________________________\n",
      "conv1d_116 (Conv1D)             (None, 1024, 255)    130305      multiply_53[0][0]                \n",
      "__________________________________________________________________________________________________\n",
      "conv1d_117 (Conv1D)             (None, 1024, 255)    130305      multiply_53[0][0]                \n",
      "__________________________________________________________________________________________________\n",
      "multiply_54 (Multiply)          (None, 1024, 255)    0           conv1d_116[0][0]                 \n",
      "                                                                 conv1d_117[0][0]                 \n",
      "__________________________________________________________________________________________________\n",
      "conv1d_118 (Conv1D)             (None, 1024, 255)    130305      multiply_54[0][0]                \n",
      "__________________________________________________________________________________________________\n",
      "conv1d_119 (Conv1D)             (None, 1024, 255)    130305      multiply_54[0][0]                \n",
      "__________________________________________________________________________________________________\n",
      "multiply_55 (Multiply)          (None, 1024, 255)    0           conv1d_118[0][0]                 \n",
      "                                                                 conv1d_119[0][0]                 \n",
      "__________________________________________________________________________________________________\n",
      "conv1d_120 (Conv1D)             (None, 1024, 255)    130305      multiply_55[0][0]                \n",
      "__________________________________________________________________________________________________\n",
      "conv1d_121 (Conv1D)             (None, 1024, 255)    130305      multiply_55[0][0]                \n",
      "__________________________________________________________________________________________________\n",
      "multiply_56 (Multiply)          (None, 1024, 255)    0           conv1d_120[0][0]                 \n",
      "                                                                 conv1d_121[0][0]                 \n",
      "__________________________________________________________________________________________________\n",
      "conv1d_122 (Conv1D)             (None, 1024, 255)    130305      multiply_56[0][0]                \n",
      "__________________________________________________________________________________________________\n",
      "conv1d_123 (Conv1D)             (None, 1024, 255)    130305      multiply_56[0][0]                \n",
      "__________________________________________________________________________________________________\n",
      "multiply_57 (Multiply)          (None, 1024, 255)    0           conv1d_122[0][0]                 \n",
      "                                                                 conv1d_123[0][0]                 \n",
      "__________________________________________________________________________________________________\n",
      "conv1d_124 (Conv1D)             (None, 1024, 255)    130305      multiply_57[0][0]                \n",
      "__________________________________________________________________________________________________\n",
      "conv1d_125 (Conv1D)             (None, 1024, 255)    130305      multiply_57[0][0]                \n",
      "__________________________________________________________________________________________________\n",
      "multiply_58 (Multiply)          (None, 1024, 255)    0           conv1d_124[0][0]                 \n",
      "                                                                 conv1d_125[0][0]                 \n",
      "__________________________________________________________________________________________________\n",
      "conv1d_126 (Conv1D)             (None, 1024, 255)    130305      multiply_58[0][0]                \n",
      "__________________________________________________________________________________________________\n",
      "conv1d_127 (Conv1D)             (None, 1024, 255)    130305      multiply_58[0][0]                \n",
      "__________________________________________________________________________________________________\n",
      "multiply_59 (Multiply)          (None, 1024, 255)    0           conv1d_126[0][0]                 \n",
      "                                                                 conv1d_127[0][0]                 \n",
      "__________________________________________________________________________________________________\n",
      "conv1d_128 (Conv1D)             (None, 1024, 247)    63232       multiply_59[0][0]                \n",
      "==================================================================================================\n",
      "Total params: 2,661,172\n",
      "Trainable params: 2,661,172\n",
      "Non-trainable params: 0\n",
      "__________________________________________________________________________________________________\n"
     ]
    }
   ],
   "source": [
    "test_model.summary()"
   ]
  },
  {
   "cell_type": "code",
   "execution_count": null,
   "metadata": {},
   "outputs": [],
   "source": [
    "# Compile and fit\n",
    "test_model.compile(optimizer='adam', loss='categorical_crossentropy')\n",
    "\n",
    "test_model.fit(x_train_onehot, x_train_onehot, epochs=1)"
   ]
  },
  {
   "cell_type": "markdown",
   "metadata": {},
   "source": [
    "1 layer - 1024 window - 304,198 weights = 16s \\\n",
    "2 layer - 1024 window - 564,808 weights = 22s \\\n",
    "3 layer - 1024 window - 825,418 weights = 31s \\\n",
    "4 layer - 1024 window - 1,086,028 weights = 40s \\\n",
    "5 layer - 1024 window - 1,346,638 weights = 49s"
   ]
  },
  {
   "cell_type": "markdown",
   "metadata": {},
   "source": [
    "### 10000 datapoints\n",
    "\n",
    "5 layer - 32 window - 1,079,954 weights = 8s \n",
    "\n",
    "6 layer - 64 window - 1,375,016 weights = 14s \n",
    "\n",
    "7 layer - 128 window - 1,710,910 weights - 25s \n",
    "\n",
    "8 layer - 256 window - 2,099,120 weights - 49s \n",
    "\n",
    "9 layer - 512 window - 2,389,078 weights - 93s\n"
   ]
  },
  {
   "cell_type": "code",
   "execution_count": 103,
   "metadata": {},
   "outputs": [
    {
     "data": {
      "image/png": "[encoded data removed]",
      "text/plain": [
       "<Figure size 864x504 with 1 Axes>"
      ]
     },
     "metadata": {
      "needs_background": "light"
     },
     "output_type": "display_data"
    }
   ],
   "source": [
    "plt.figure(figsize=(12,7))\n",
    "\n",
    "plt.plot([\"5\", \"6\", \"7\", \"8\", \"9\"],[8, 14, 25, 49, 93])\n",
    "plt.xlabel('Number of Layers')\n",
    "plt.ylabel('Time to Train /s')\n",
    "plt.title(\"Training Time of Basic Keras Wavenet - on 5000 samples (1/5800th of a song)\")\n",
    "\n",
    "plt.show()"
   ]
  }
 ],
 "metadata": {
  "kernelspec": {
   "display_name": "python3",
   "language": "python",
   "name": "python3"
  },
  "language_info": {
   "codemirror_mode": {
    "name": "ipython",
    "version": 3
   },
   "file_extension": ".py",
   "mimetype": "text/x-python",
   "name": "python",
   "nbconvert_exporter": "python",
   "pygments_lexer": "ipython3",
   "version": "3.7.4"
  }
 },
 "nbformat": 4,
 "nbformat_minor": 2
}
